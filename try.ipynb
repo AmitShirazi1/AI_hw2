{
 "cells": [
  {
   "cell_type": "code",
   "execution_count": 5,
   "metadata": {},
   "outputs": [
    {
     "name": "stdout",
     "output_type": "stream",
     "text": [
      "Graph with 15 nodes and 17 edges\n",
      "[((0, 0), (1, 0)), ((0, 0), (0, 1)), ((0, 1), (1, 1)), ((0, 3), (1, 3)), ((0, 3), (0, 4)), ((1, 0), (2, 0)), ((1, 0), (1, 1)), ((1, 1), (1, 2)), ((1, 2), (2, 2)), ((1, 2), (1, 3)), ((1, 3), (2, 3)), ((2, 2), (3, 2)), ((2, 2), (2, 3)), ((2, 3), (3, 3)), ((3, 1), (3, 2)), ((3, 2), (3, 3)), ((3, 3), (3, 4))]\n",
      "[(0, 0), (0, 1), (0, 3), (0, 4), (1, 0), (1, 1), (1, 2), (1, 3), (2, 0), (2, 2), (2, 3), (3, 1), (3, 2), (3, 3), (3, 4)]\n"
     ]
    }
   ],
   "source": [
    "import networkx as nx\n",
    "\n",
    "game = [[1,2,'I',4,5],[6,7,8,9,'I'],[11,'I',2,13,'I',15],['I',17,18,19,20]]\n",
    "\n",
    "n, m = 4, 5\n",
    "g = nx.grid_graph((m, n))\n",
    "nodes_to_remove = []\n",
    "for node in g:\n",
    "    if game[node[0]][node[1]] == 'I':\n",
    "        nodes_to_remove.append(node)\n",
    "for node in nodes_to_remove:\n",
    "    g.remove_node(node)\n",
    "print(g)\n",
    "print(g.edges())\n",
    "print(g.nodes())"
   ]
  }
 ],
 "metadata": {
  "kernelspec": {
   "display_name": "Python 3",
   "language": "python",
   "name": "python3"
  },
  "language_info": {
   "codemirror_mode": {
    "name": "ipython",
    "version": 3
   },
   "file_extension": ".py",
   "mimetype": "text/x-python",
   "name": "python",
   "nbconvert_exporter": "python",
   "pygments_lexer": "ipython3",
   "version": "3.9.4"
  }
 },
 "nbformat": 4,
 "nbformat_minor": 2
}
